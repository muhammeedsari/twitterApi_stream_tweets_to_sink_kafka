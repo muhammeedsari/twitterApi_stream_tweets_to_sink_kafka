{
 "cells": [
  {
   "cell_type": "code",
   "execution_count": 1,
   "id": "b61938d3",
   "metadata": {
    "collapsed": true
   },
   "outputs": [
    {
     "name": "stdout",
     "output_type": "stream",
     "text": [
      "Collecting confluent-kafka\n",
      "  Downloading confluent_kafka-1.7.0-cp39-cp39-manylinux2010_x86_64.whl (2.7 MB)\n",
      "     |████████████████████████████████| 2.7 MB 30.5 MB/s            \n",
      "\u001b[?25hInstalling collected packages: confluent-kafka\n",
      "Successfully installed confluent-kafka-1.7.0\n"
     ]
    }
   ],
   "source": [
    "!pip install confluent-kafka"
   ]
  },
  {
   "cell_type": "code",
   "execution_count": 17,
   "id": "0289c029",
   "metadata": {
    "collapsed": true
   },
   "outputs": [
    {
     "name": "stdout",
     "output_type": "stream",
     "text": [
      "Collecting simplejson\n",
      "  Downloading simplejson-3.17.6-cp39-cp39-manylinux_2_5_x86_64.manylinux1_x86_64.manylinux_2_12_x86_64.manylinux2010_x86_64.whl (136 kB)\n",
      "     |████████████████████████████████| 136 kB 40.7 MB/s            \n",
      "\u001b[?25hInstalling collected packages: simplejson\n",
      "Successfully installed simplejson-3.17.6\n"
     ]
    }
   ],
   "source": [
    "!pip install simplejson"
   ]
  },
  {
   "cell_type": "code",
   "execution_count": 10,
   "id": "473f3fa2",
   "metadata": {},
   "outputs": [],
   "source": [
    "consumer_key=\"\"\n",
    "consumer_secret=\"\"\n",
    "access_token_key=\"\"\n",
    "access_token_secret=\"\""
   ]
  },
  {
   "cell_type": "code",
   "execution_count": 42,
   "id": "e0232288",
   "metadata": {},
   "outputs": [],
   "source": [
    "from datetime import datetime"
   ]
  },
  {
   "cell_type": "code",
   "execution_count": 43,
   "id": "f1ee7c72",
   "metadata": {},
   "outputs": [],
   "source": [
    "from TwitterAPI import TwitterAPI\n",
    "api = TwitterAPI(consumer_key, consumer_secret, access_token_key, access_token_secret)"
   ]
  },
  {
   "cell_type": "code",
   "execution_count": 44,
   "id": "63e88f8b",
   "metadata": {},
   "outputs": [],
   "source": [
    "from confluent_kafka.admin import AdminClient, NewTopic\n",
    "from confluent_kafka import Producer, Consumer\n",
    "\n",
    "\n",
    "class Kafka:\n",
    "    def __init__(self):\n",
    "        self.adminClient = AdminClient({\"bootstrap.servers\": \"localhost:9092\"})\n",
    "\n",
    "    def delivery_report(self, err, msg):\n",
    "        try:\n",
    "            if err is not None:\n",
    "                print(\"Message delivery failed: {}\".format(err))\n",
    "            else:\n",
    "                print(\n",
    "                    \"Message delivered to {} [{}]\".format(\n",
    "                        msg.topic(), msg.partition()\n",
    "                    )\n",
    "                )\n",
    "        except Exception as err:\n",
    "            print(err.__doc__)\n",
    "\n",
    "    def create_topics(self, topic: str, num_partitions: int):\n",
    "        new_topics = [\n",
    "            NewTopic(topic=topic, num_partitions=num_partitions, replication_factor=1)\n",
    "        ]\n",
    "        fs = self.adminClient.create_topics(new_topics)\n",
    "        for topic, f in fs.items():\n",
    "            try:\n",
    "                f.result()\n",
    "                print(\"Topic {} created\".format(topic))\n",
    "            except Exception as e:\n",
    "                print(\"Failed to create topic {}: {}\".format(topic, e))\n",
    "\n",
    "    def list_topics(self):\n",
    "        print(self.adminClient.list_topics().topics)\n",
    "\n",
    "    def produce_message(self, topic: str, key, value):\n",
    "        producer = Producer({\"bootstrap.servers\": \"localhost:9092\"})\n",
    "        producer.poll(0)\n",
    "        try:\n",
    "            producer.produce(\n",
    "                topic=topic, key=key, value=value, callback=self.delivery_report\n",
    "            )\n",
    "            producer.flush()\n",
    "        except Exception as err:\n",
    "            print(\"Error:  {}\".format(err.__doc__))\n",
    "\n",
    "    def create_consumer(self, topic: str, group_id: str):\n",
    "        consumer = Consumer(\n",
    "            {\n",
    "                \"bootstrap.servers\": \"localhost:9092\",\n",
    "                \"group.id\": group_id,\n",
    "                \"auto.offset.reset\": \"earliest\",\n",
    "            }\n",
    "        )\n",
    "\n",
    "        consumer.subscribe([topic])\n",
    "        return consumer"
   ]
  },
  {
   "cell_type": "code",
   "execution_count": 40,
   "id": "db1a41ca",
   "metadata": {},
   "outputs": [],
   "source": [
    "import simplejson as json\n",
    "import datetime\n",
    "r = api.request('statuses/filter', {'track':'bugün', 'language' : 'tr'})\n",
    "\n",
    "class ProduceController:\n",
    "\n",
    "    def __init__(self):\n",
    "        self.fake = Faker()\n",
    "        self.kafka = Kafka()\n",
    "\n",
    "    def produce_tweets(self):\n",
    "        r = api.request('statuses/filter', {'track':'pizza'})\n",
    "        for item in r.get_iterator():\n",
    "            try:\n",
    "                json_object = json.dumps(item)\n",
    "                tweet = json.loads(json_object)\n",
    "\n",
    "                year = datetime.strptime(tweet['created_at'], \"%a %b %d %H:%M:%S +0000 %Y\").strftime('%Y-%m-%d').split('-')[0]\n",
    "                month = datetime.strptime(tweet['created_at'], \"%a %b %d %H:%M:%S +0000 %Y\").strftime('%Y-%m-%d').split('-')[1]\n",
    "                day = datetime.strptime(tweet['created_at'], \"%a %b %d %H:%M:%S +0000 %Y\").strftime('%Y-%m-%d').split('-')[2]\n",
    "                credit_card = dict(\n",
    "                            createdAt = int(year+month+day),\n",
    "                          likeCount = tweet['favorite_count'],\n",
    "                        name=tweet['user']['name'][0:3]+\"***\",\n",
    "                         quoteCount = tweet['quote_count'],\n",
    "                         replyCount = tweet['reply_count'],\n",
    "                         retweetCount = tweet['retweet_count'],\n",
    "                        text=tweet['text']) \n",
    "                print(credit_card)\n",
    "            except (json.JSONDecodeError, KeyError) as err:\n",
    "                print(\n",
    "                    f\"ERROR ===> 0of, encountered a mangled line of data here..\\n\"\n",
    "                )\n",
    "                continue"
   ]
  },
  {
   "cell_type": "code",
   "execution_count": 35,
   "id": "5cdc6f76",
   "metadata": {},
   "outputs": [],
   "source": [
    "class AdminController:\n",
    "\n",
    "    def create_topic(self, topic='tweet', num_partitions=2):\n",
    "        try:\n",
    "            kafka = Kafka()\n",
    "            kafka.create_topics(topic=topic, num_partitions=num_partitions)\n",
    "        except Exception as err:\n",
    "            print(err.__doc__)"
   ]
  },
  {
   "cell_type": "code",
   "execution_count": 36,
   "id": "8376f60f",
   "metadata": {},
   "outputs": [],
   "source": [
    "class CreditCardController:\n",
    "\n",
    "    def create_credit_card_customer(self):\n",
    "        kafka = Kafka()\n",
    "        customer = kafka.create_consumer(\n",
    "            topic='tweet',\n",
    "            group_id='tweet')\n",
    "\n",
    "\n",
    "        while True:\n",
    "            try:\n",
    "                msg = customer.poll()\n",
    "\n",
    "                if msg is None:\n",
    "                    continue\n",
    "                if msg.error():\n",
    "                    print(\"Consumer tweet error: {}\".format(msg.error()))\n",
    "                    continue\n",
    "                \n",
    "                json_data1 = json.loads(msg.value().decode('utf-8'))\n",
    "\n",
    "                print(json_data1)\n",
    "            except Exception as err:\n",
    "                print(err.__doc__)"
   ]
  },
  {
   "cell_type": "code",
   "execution_count": 19,
   "id": "4918198a",
   "metadata": {},
   "outputs": [
    {
     "name": "stdout",
     "output_type": "stream",
     "text": [
      "Failed to create topic credit_card: KafkaError{code=TOPIC_ALREADY_EXISTS,val=36,str=\"Topic 'credit_card' already exists.\"}\n"
     ]
    }
   ],
   "source": [
    "admin_controller = AdminController()\n",
    "admin_controller.create_topic()"
   ]
  },
  {
   "cell_type": "code",
   "execution_count": null,
   "id": "7d03b640",
   "metadata": {},
   "outputs": [],
   "source": [
    "producer = ProduceController()\n",
    "\n",
    "while True:\n",
    "    producer.produce_credit_card_customer()"
   ]
  },
  {
   "cell_type": "code",
   "execution_count": null,
   "id": "01d8cbf2",
   "metadata": {},
   "outputs": [],
   "source": [
    "credit_card_controller = CreditCardController()\n",
    "credit_card_controller.create_credit_card_customer()"
   ]
  },
  {
   "cell_type": "code",
   "execution_count": null,
   "id": "d690b7ba",
   "metadata": {},
   "outputs": [],
   "source": []
  },
  {
   "cell_type": "code",
   "execution_count": null,
   "id": "4af6fe2b",
   "metadata": {},
   "outputs": [],
   "source": []
  },
  {
   "cell_type": "code",
   "execution_count": null,
   "id": "a1bba182",
   "metadata": {},
   "outputs": [],
   "source": []
  }
 ],
 "metadata": {
  "kernelspec": {
   "display_name": "Python 3 (ipykernel)",
   "language": "python",
   "name": "python3"
  },
  "language_info": {
   "codemirror_mode": {
    "name": "ipython",
    "version": 3
   },
   "file_extension": ".py",
   "mimetype": "text/x-python",
   "name": "python",
   "nbconvert_exporter": "python",
   "pygments_lexer": "ipython3",
   "version": "3.9.7"
  }
 },
 "nbformat": 4,
 "nbformat_minor": 5
}
